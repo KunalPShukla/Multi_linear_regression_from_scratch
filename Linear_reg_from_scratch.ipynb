{
 "cells": [
  {
   "cell_type": "code",
   "execution_count": 1,
   "id": "458a6bd5",
   "metadata": {},
   "outputs": [
    {
     "name": "stderr",
     "output_type": "stream",
     "text": [
      "C:\\Users\\LENOVO\\anaconda3\\Lib\\site-packages\\pandas\\core\\arrays\\masked.py:60: UserWarning: Pandas requires version '1.3.6' or newer of 'bottleneck' (version '1.3.5' currently installed).\n",
      "  from pandas.core import (\n"
     ]
    }
   ],
   "source": [
    "import numpy as np\n",
    "import pandas as pd\n",
    "import matplotlib.pyplot as plt\n",
    "from sklearn.preprocessing import StandardScaler\n",
    "from sklearn.datasets import fetch_california_housing"
   ]
  },
  {
   "cell_type": "code",
   "execution_count": 2,
   "id": "f6a6cb34",
   "metadata": {},
   "outputs": [
    {
     "name": "stdout",
     "output_type": "stream",
     "text": [
      "       MedInc  HouseAge  AveRooms  AveBedrms  Population  AveOccup  Latitude  \\\n",
      "0      8.3252      41.0  6.984127   1.023810       322.0  2.555556     37.88   \n",
      "1      8.3014      21.0  6.238137   0.971880      2401.0  2.109842     37.86   \n",
      "2      7.2574      52.0  8.288136   1.073446       496.0  2.802260     37.85   \n",
      "3      5.6431      52.0  5.817352   1.073059       558.0  2.547945     37.85   \n",
      "4      3.8462      52.0  6.281853   1.081081       565.0  2.181467     37.85   \n",
      "...       ...       ...       ...        ...         ...       ...       ...   \n",
      "20635  1.5603      25.0  5.045455   1.133333       845.0  2.560606     39.48   \n",
      "20636  2.5568      18.0  6.114035   1.315789       356.0  3.122807     39.49   \n",
      "20637  1.7000      17.0  5.205543   1.120092      1007.0  2.325635     39.43   \n",
      "20638  1.8672      18.0  5.329513   1.171920       741.0  2.123209     39.43   \n",
      "20639  2.3886      16.0  5.254717   1.162264      1387.0  2.616981     39.37   \n",
      "\n",
      "       Longitude  Target  \n",
      "0        -122.23   4.526  \n",
      "1        -122.22   3.585  \n",
      "2        -122.24   3.521  \n",
      "3        -122.25   3.413  \n",
      "4        -122.25   3.422  \n",
      "...          ...     ...  \n",
      "20635    -121.09   0.781  \n",
      "20636    -121.21   0.771  \n",
      "20637    -121.22   0.923  \n",
      "20638    -121.32   0.847  \n",
      "20639    -121.24   0.894  \n",
      "\n",
      "[20640 rows x 9 columns]\n"
     ]
    }
   ],
   "source": [
    "# Load dataset\n",
    "data = fetch_california_housing()\n",
    "df = pd.DataFrame(data.data, columns=data.feature_names)\n",
    "df['Target'] = data.target\n",
    "print(df)\n",
    "# Split dataset\n",
    "x = df.drop('Target', axis=1)\n",
    "y = df['Target']"
   ]
  },
  {
   "cell_type": "code",
   "execution_count": 3,
   "id": "cef57f61",
   "metadata": {},
   "outputs": [
    {
     "name": "stdout",
     "output_type": "stream",
     "text": [
      " x_train_shape: (16512, 8) \n",
      " x_test_shape: (4128, 8) \n",
      " y_train_shape: (16512,) \n",
      " y_test_shape: (4128,)\n"
     ]
    }
   ],
   "source": [
    "train_split = 0.8\n",
    "train_split_index = int(train_split * len(x))\n",
    "\n",
    "x_train = x.iloc[:train_split_index]\n",
    "x_test = x.iloc[train_split_index:]\n",
    "y_train = y.iloc[:train_split_index]\n",
    "y_test = y.iloc[train_split_index:]\n",
    "\n",
    "# Scale data\n",
    "scaler = StandardScaler()\n",
    "x_train_scaled = scaler.fit_transform(x_train)\n",
    "x_test_scaled = scaler.transform(x_test)\n",
    "print(' x_train_shape:',x_train.shape,'\\n','x_test_shape:',x_test.shape,'\\n','y_train_shape:',y_train.shape,\n",
    "      '\\n','y_test_shape:',y_test.shape)"
   ]
  },
  {
   "cell_type": "code",
   "execution_count": 4,
   "id": "96a58843",
   "metadata": {},
   "outputs": [
    {
     "name": "stdout",
     "output_type": "stream",
     "text": [
      "R² Score: 0.6150\n"
     ]
    },
    {
     "data": {
      "text/plain": [
       "0.6149698193396489"
      ]
     },
     "execution_count": 4,
     "metadata": {},
     "output_type": "execute_result"
    }
   ],
   "source": [
    "class Multi_Linear_Regression:\n",
    "    def __init__(self, lr=0.01, n_iter=1000):\n",
    "        self.lr = lr\n",
    "        self.n_iter = n_iter\n",
    "\n",
    "    def fit(self, X_train, y_train):\n",
    "        n_samples, n_features = X_train.shape\n",
    "        self.weights = np.zeros(n_features)\n",
    "        self.bias = 0\n",
    "\n",
    "        for _ in range(self.n_iter):\n",
    "            y_pred = np.dot(X_train, self.weights) + self.bias\n",
    "            dw = (1/n_samples) * np.dot(X_train.T, (y_pred - y_train))\n",
    "            db = (1/n_samples) * np.sum(y_pred - y_train)\n",
    "            self.weights -= self.lr * dw\n",
    "            self.bias -= self.lr * db\n",
    "\n",
    "    def predict(self, X_test):\n",
    "        return np.dot(X_test, self.weights) + self.bias\n",
    "\n",
    "    def evaluate(self, X_test, y_test):\n",
    "        y_pred = self.predict(X_test)\n",
    "        r_square = 1 - (np.sum((y_test - y_pred) ** 2) / np.sum((y_test - np.mean(y_test)) ** 2))\n",
    "        print(f\"R² Score: {r_square:.4f}\")\n",
    "        return r_square\n",
    "\n",
    "# Load dataset\n",
    "data = fetch_california_housing()\n",
    "df = pd.DataFrame(data.data, columns=data.feature_names)\n",
    "df['Target'] = data.target\n",
    "\n",
    "# Split dataset\n",
    "x = df.drop('Target', axis=1)\n",
    "y = df['Target']\n",
    "\n",
    "\n",
    "# Train Multi-Linear Regression Model\n",
    "model = Multi_Linear_Regression(lr=0.01, n_iter=1000)\n",
    "model.fit(x_train_scaled, y_train.values)\n",
    "\n",
    "# Evaluate the model\n",
    "model.evaluate(x_test_scaled, y_test.values)\n"
   ]
  }
 ],
 "metadata": {
  "kernelspec": {
   "display_name": "Python 3 (ipykernel)",
   "language": "python",
   "name": "python3"
  },
  "language_info": {
   "codemirror_mode": {
    "name": "ipython",
    "version": 3
   },
   "file_extension": ".py",
   "mimetype": "text/x-python",
   "name": "python",
   "nbconvert_exporter": "python",
   "pygments_lexer": "ipython3",
   "version": "3.11.4"
  }
 },
 "nbformat": 4,
 "nbformat_minor": 5
}
